{
 "cells": [
  {
   "cell_type": "code",
   "execution_count": 1,
   "metadata": {},
   "outputs": [],
   "source": [
    "from numba import njit"
   ]
  },
  {
   "cell_type": "code",
   "execution_count": 10,
   "metadata": {},
   "outputs": [],
   "source": [
    "import numpy as np\n",
    "import time\n",
    "import math"
   ]
  },
  {
   "cell_type": "code",
   "execution_count": 55,
   "metadata": {},
   "outputs": [],
   "source": [
    "def _time_func(func, n=10_000_000):\n",
    "    x = np.random.uniform(size=n)*3\n",
    "    y = np.zeros_like(x)\n",
    "    for _ in range(2):\n",
    "        func(x, y)\n",
    "    t0 = time.time()\n",
    "    for _ in range(10):\n",
    "        func(x, y)\n",
    "    print(\"time:\", time.time() - t0)"
   ]
  },
  {
   "cell_type": "code",
   "execution_count": 59,
   "metadata": {},
   "outputs": [
    {
     "name": "stdout",
     "output_type": "stream",
     "text": [
      "time: 1.9334180355072021\n"
     ]
    }
   ],
   "source": [
    "@njit\n",
    "def sinc(x):\n",
    "    if abs(x) < 1e-4:\n",
    "        return 1 - (math.pi * math.pi / 6) * x * x\n",
    "    else:\n",
    "        ax = math.pi * x\n",
    "        return np.sin(ax) / ax\n",
    "    \n",
    "@njit\n",
    "def vec_sinc(x, y):\n",
    "    n = x.shape[0]\n",
    "    for i in range(n):\n",
    "        y[i] = sinc(x[i])\n",
    "\n",
    "_time_func(vec_sinc)"
   ]
  },
  {
   "cell_type": "code",
   "execution_count": 58,
   "metadata": {},
   "outputs": [
    {
     "name": "stdout",
     "output_type": "stream",
     "text": [
      "time: 1.2969930171966553\n"
     ]
    }
   ],
   "source": [
    "@njit\n",
    "def sinc(x):\n",
    "    \"\"\"A pseudo-Pade approximation to sinc.\n",
    "\n",
    "    When used in lanczos interpolation, this approximation to the sinc\n",
    "    function has error in the kernel of at most ~1.03019e-05 and is exactly\n",
    "    zero at x = 1, 2, 3 and exactly 1 at x = 0.\n",
    "    \"\"\"\n",
    "    x = np.abs(x)\n",
    "    num = (  # noqa\n",
    "        -0.166666666666666 + x * (\n",
    "        -0.289176685343373 + x * (  # noqa\n",
    "        -0.109757669089546 + x * (  # noqa\n",
    "        0.0350931080575596 + x * (  # noqa\n",
    "        0.0229947584643336 + x * (  # noqa\n",
    "        -0.00089363958201935 + x * (  # noqa\n",
    "        -0.00162722192965722 + x * (  # noqa\n",
    "        -3.00689146075626e-05 + x * (  # noqa\n",
    "        5.13864469774294e-05 + x * (  # noqa\n",
    "        1.23561563382214e-06 + x * (  # noqa\n",
    "        -6.37392253619041e-07))))))))))) * (x-1) * (x-2) * (x-3)  # noqa\n",
    "    den = (  # noqa\n",
    "        1 + x * (\n",
    "        -0.0982732212730775 + x * (  # noqa\n",
    "        0.122536542608403 + x * (  # noqa\n",
    "        -0.0111525324680647 + x * (  # noqa\n",
    "        0.00724707512833019 + x * (  # noqa\n",
    "        -0.000584774445653404 + x * (  # noqa\n",
    "        0.000262528048296579 + x * (  # noqa\n",
    "        -1.71596576734417e-05 + x * (  # noqa\n",
    "        5.91945411660804e-06 + x * (  # noqa\n",
    "        -2.44174818579491e-07 + x * (  # noqa\n",
    "        6.74473938075399e-08)))))))))))  # noqa\n",
    "    return num / den\n",
    "\n",
    "\n",
    "@njit\n",
    "def vec_sinc(x, y):\n",
    "    n = x.shape[0]\n",
    "    for i in range(n):\n",
    "        y[i] = sinc(x[i])\n",
    "        \n",
    "_time_func(vec_sinc)"
   ]
  },
  {
   "cell_type": "code",
   "execution_count": 45,
   "metadata": {},
   "outputs": [
    {
     "name": "stdout",
     "output_type": "stream",
     "text": [
      "time: 2.264035224914551\n"
     ]
    }
   ],
   "source": []
  },
  {
   "cell_type": "code",
   "execution_count": null,
   "metadata": {},
   "outputs": [],
   "source": []
  }
 ],
 "metadata": {
  "kernelspec": {
   "display_name": "Python [conda env:desy6]",
   "language": "python",
   "name": "conda-env-desy6-py"
  },
  "language_info": {
   "codemirror_mode": {
    "name": "ipython",
    "version": 3
   },
   "file_extension": ".py",
   "mimetype": "text/x-python",
   "name": "python",
   "nbconvert_exporter": "python",
   "pygments_lexer": "ipython3",
   "version": "3.7.6"
  }
 },
 "nbformat": 4,
 "nbformat_minor": 4
}
